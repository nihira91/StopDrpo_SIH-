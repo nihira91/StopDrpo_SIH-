{
 "cells": [
  {
   "cell_type": "code",
   "execution_count": 28,
   "metadata": {
    "colab": {
     "base_uri": "https://localhost:8080/"
    },
    "executionInfo": {
     "elapsed": 15469,
     "status": "ok",
     "timestamp": 1758006478112,
     "user": {
      "displayName": "RANE YEESHIKA SUDHIR",
      "userId": "04129580577590895548"
     },
     "user_tz": -330
    },
    "id": "CYfT935VVfrf",
    "outputId": "0de0ef94-e32e-43ab-d70f-df0d50992261"
   },
   "outputs": [
    {
     "name": "stdout",
     "output_type": "stream",
     "text": [
      "Requirement already satisfied: scikit-learn in c:\\users\\yeeshika\\agenticprac\\venv\\lib\\site-packages (1.7.2)\n",
      "Requirement already satisfied: numpy>=1.22.0 in c:\\users\\yeeshika\\agenticprac\\venv\\lib\\site-packages (from scikit-learn) (2.2.0)\n",
      "Requirement already satisfied: scipy>=1.8.0 in c:\\users\\yeeshika\\agenticprac\\venv\\lib\\site-packages (from scikit-learn) (1.16.1)\n",
      "Requirement already satisfied: joblib>=1.2.0 in c:\\users\\yeeshika\\agenticprac\\venv\\lib\\site-packages (from scikit-learn) (1.5.2)\n",
      "Requirement already satisfied: threadpoolctl>=3.1.0 in c:\\users\\yeeshika\\agenticprac\\venv\\lib\\site-packages (from scikit-learn) (3.6.0)\n",
      "Requirement already satisfied: numpy in c:\\users\\yeeshika\\agenticprac\\venv\\lib\\site-packages (2.2.0)\n",
      "Requirement already satisfied: shap in c:\\users\\yeeshika\\agenticprac\\venv\\lib\\site-packages (0.48.0)\n",
      "Requirement already satisfied: numpy in c:\\users\\yeeshika\\agenticprac\\venv\\lib\\site-packages (from shap) (2.2.0)\n",
      "Requirement already satisfied: scipy in c:\\users\\yeeshika\\agenticprac\\venv\\lib\\site-packages (from shap) (1.16.1)\n",
      "Requirement already satisfied: scikit-learn in c:\\users\\yeeshika\\agenticprac\\venv\\lib\\site-packages (from shap) (1.7.2)\n",
      "Requirement already satisfied: pandas in c:\\users\\yeeshika\\agenticprac\\venv\\lib\\site-packages (from shap) (2.3.1)\n",
      "Requirement already satisfied: tqdm>=4.27.0 in c:\\users\\yeeshika\\agenticprac\\venv\\lib\\site-packages (from shap) (4.67.1)\n",
      "Requirement already satisfied: packaging>20.9 in c:\\users\\yeeshika\\agenticprac\\venv\\lib\\site-packages (from shap) (25.0)\n",
      "Requirement already satisfied: slicer==0.0.8 in c:\\users\\yeeshika\\agenticprac\\venv\\lib\\site-packages (from shap) (0.0.8)\n",
      "Requirement already satisfied: numba>=0.54 in c:\\users\\yeeshika\\agenticprac\\venv\\lib\\site-packages (from shap) (0.61.2)\n",
      "Requirement already satisfied: cloudpickle in c:\\users\\yeeshika\\agenticprac\\venv\\lib\\site-packages (from shap) (3.1.1)\n",
      "Requirement already satisfied: typing-extensions in c:\\users\\yeeshika\\agenticprac\\venv\\lib\\site-packages (from shap) (4.14.1)\n",
      "Requirement already satisfied: llvmlite<0.45,>=0.44.0dev0 in c:\\users\\yeeshika\\agenticprac\\venv\\lib\\site-packages (from numba>=0.54->shap) (0.44.0)\n",
      "Requirement already satisfied: colorama in c:\\users\\yeeshika\\agenticprac\\venv\\lib\\site-packages (from tqdm>=4.27.0->shap) (0.4.6)\n",
      "Requirement already satisfied: python-dateutil>=2.8.2 in c:\\users\\yeeshika\\agenticprac\\venv\\lib\\site-packages (from pandas->shap) (2.9.0.post0)\n",
      "Requirement already satisfied: pytz>=2020.1 in c:\\users\\yeeshika\\agenticprac\\venv\\lib\\site-packages (from pandas->shap) (2025.2)\n",
      "Requirement already satisfied: tzdata>=2022.7 in c:\\users\\yeeshika\\agenticprac\\venv\\lib\\site-packages (from pandas->shap) (2025.2)\n",
      "Requirement already satisfied: six>=1.5 in c:\\users\\yeeshika\\agenticprac\\venv\\lib\\site-packages (from python-dateutil>=2.8.2->pandas->shap) (1.17.0)\n",
      "Requirement already satisfied: joblib>=1.2.0 in c:\\users\\yeeshika\\agenticprac\\venv\\lib\\site-packages (from scikit-learn->shap) (1.5.2)\n",
      "Requirement already satisfied: threadpoolctl>=3.1.0 in c:\\users\\yeeshika\\agenticprac\\venv\\lib\\site-packages (from scikit-learn->shap) (3.6.0)\n"
     ]
    }
   ],
   "source": [
    "!pip install scikit-learn\n",
    "!pip install numpy\n",
    "!pip install shap"
   ]
  },
  {
   "cell_type": "code",
   "execution_count": 29,
   "metadata": {
    "colab": {
     "base_uri": "https://localhost:8080/",
     "height": 652
    },
    "executionInfo": {
     "elapsed": 68,
     "status": "ok",
     "timestamp": 1758006478172,
     "user": {
      "displayName": "RANE YEESHIKA SUDHIR",
      "userId": "04129580577590895548"
     },
     "user_tz": -330
    },
    "id": "H6Jqgpj8VjID",
    "outputId": "30725a0c-f6db-4f62-b353-7f5fedc1d3e6"
   },
   "outputs": [
    {
     "data": {
      "text/html": [
       "<div>\n",
       "<style scoped>\n",
       "    .dataframe tbody tr th:only-of-type {\n",
       "        vertical-align: middle;\n",
       "    }\n",
       "\n",
       "    .dataframe tbody tr th {\n",
       "        vertical-align: top;\n",
       "    }\n",
       "\n",
       "    .dataframe thead th {\n",
       "        text-align: right;\n",
       "    }\n",
       "</style>\n",
       "<table border=\"1\" class=\"dataframe\">\n",
       "  <thead>\n",
       "    <tr style=\"text-align: right;\">\n",
       "      <th></th>\n",
       "      <th>branch</th>\n",
       "      <th>year</th>\n",
       "      <th>admission_year</th>\n",
       "      <th>age</th>\n",
       "      <th>avg_attendance_overall</th>\n",
       "      <th>last_4_week_attendance</th>\n",
       "      <th>current_sgpa</th>\n",
       "      <th>cgpa</th>\n",
       "      <th>backlog_prev</th>\n",
       "      <th>backlog_curr</th>\n",
       "      <th>fee_status</th>\n",
       "      <th>lms_logins_30d</th>\n",
       "    </tr>\n",
       "  </thead>\n",
       "  <tbody>\n",
       "    <tr>\n",
       "      <th>0</th>\n",
       "      <td>Information Technology</td>\n",
       "      <td>1</td>\n",
       "      <td>2025</td>\n",
       "      <td>18</td>\n",
       "      <td>77.36</td>\n",
       "      <td>74.99</td>\n",
       "      <td>6.86</td>\n",
       "      <td>6.90</td>\n",
       "      <td>0</td>\n",
       "      <td>0</td>\n",
       "      <td>paid</td>\n",
       "      <td>5</td>\n",
       "    </tr>\n",
       "    <tr>\n",
       "      <th>1</th>\n",
       "      <td>Information Technology</td>\n",
       "      <td>1</td>\n",
       "      <td>2021</td>\n",
       "      <td>22</td>\n",
       "      <td>87.75</td>\n",
       "      <td>87.24</td>\n",
       "      <td>7.37</td>\n",
       "      <td>7.33</td>\n",
       "      <td>0</td>\n",
       "      <td>0</td>\n",
       "      <td>paid</td>\n",
       "      <td>11</td>\n",
       "    </tr>\n",
       "    <tr>\n",
       "      <th>2</th>\n",
       "      <td>Electrical Engineering</td>\n",
       "      <td>2</td>\n",
       "      <td>2020</td>\n",
       "      <td>17</td>\n",
       "      <td>62.85</td>\n",
       "      <td>55.98</td>\n",
       "      <td>6.08</td>\n",
       "      <td>6.68</td>\n",
       "      <td>0</td>\n",
       "      <td>0</td>\n",
       "      <td>paid</td>\n",
       "      <td>7</td>\n",
       "    </tr>\n",
       "    <tr>\n",
       "      <th>3</th>\n",
       "      <td>Production and Industrial Engineering</td>\n",
       "      <td>4</td>\n",
       "      <td>2021</td>\n",
       "      <td>21</td>\n",
       "      <td>77.51</td>\n",
       "      <td>80.25</td>\n",
       "      <td>8.20</td>\n",
       "      <td>8.01</td>\n",
       "      <td>0</td>\n",
       "      <td>0</td>\n",
       "      <td>paid</td>\n",
       "      <td>6</td>\n",
       "    </tr>\n",
       "    <tr>\n",
       "      <th>4</th>\n",
       "      <td>Electronics and Communication Engineering</td>\n",
       "      <td>4</td>\n",
       "      <td>2020</td>\n",
       "      <td>18</td>\n",
       "      <td>58.01</td>\n",
       "      <td>43.38</td>\n",
       "      <td>6.09</td>\n",
       "      <td>6.97</td>\n",
       "      <td>0</td>\n",
       "      <td>0</td>\n",
       "      <td>paid</td>\n",
       "      <td>10</td>\n",
       "    </tr>\n",
       "    <tr>\n",
       "      <th>...</th>\n",
       "      <td>...</td>\n",
       "      <td>...</td>\n",
       "      <td>...</td>\n",
       "      <td>...</td>\n",
       "      <td>...</td>\n",
       "      <td>...</td>\n",
       "      <td>...</td>\n",
       "      <td>...</td>\n",
       "      <td>...</td>\n",
       "      <td>...</td>\n",
       "      <td>...</td>\n",
       "      <td>...</td>\n",
       "    </tr>\n",
       "    <tr>\n",
       "      <th>795</th>\n",
       "      <td>Mechanical Engineering</td>\n",
       "      <td>2</td>\n",
       "      <td>2021</td>\n",
       "      <td>23</td>\n",
       "      <td>90.51</td>\n",
       "      <td>87.85</td>\n",
       "      <td>7.81</td>\n",
       "      <td>7.71</td>\n",
       "      <td>0</td>\n",
       "      <td>0</td>\n",
       "      <td>paid</td>\n",
       "      <td>10</td>\n",
       "    </tr>\n",
       "    <tr>\n",
       "      <th>796</th>\n",
       "      <td>Computer Science Engineering</td>\n",
       "      <td>3</td>\n",
       "      <td>2021</td>\n",
       "      <td>18</td>\n",
       "      <td>73.82</td>\n",
       "      <td>79.74</td>\n",
       "      <td>6.32</td>\n",
       "      <td>6.81</td>\n",
       "      <td>0</td>\n",
       "      <td>0</td>\n",
       "      <td>paid</td>\n",
       "      <td>6</td>\n",
       "    </tr>\n",
       "    <tr>\n",
       "      <th>797</th>\n",
       "      <td>Biotechnology</td>\n",
       "      <td>1</td>\n",
       "      <td>2022</td>\n",
       "      <td>17</td>\n",
       "      <td>75.52</td>\n",
       "      <td>81.37</td>\n",
       "      <td>7.62</td>\n",
       "      <td>7.54</td>\n",
       "      <td>0</td>\n",
       "      <td>0</td>\n",
       "      <td>paid</td>\n",
       "      <td>12</td>\n",
       "    </tr>\n",
       "    <tr>\n",
       "      <th>798</th>\n",
       "      <td>Electrical Engineering</td>\n",
       "      <td>4</td>\n",
       "      <td>2024</td>\n",
       "      <td>17</td>\n",
       "      <td>73.23</td>\n",
       "      <td>65.29</td>\n",
       "      <td>6.90</td>\n",
       "      <td>6.91</td>\n",
       "      <td>0</td>\n",
       "      <td>0</td>\n",
       "      <td>overdue</td>\n",
       "      <td>11</td>\n",
       "    </tr>\n",
       "    <tr>\n",
       "      <th>799</th>\n",
       "      <td>Mechanical Engineering</td>\n",
       "      <td>1</td>\n",
       "      <td>2025</td>\n",
       "      <td>22</td>\n",
       "      <td>78.80</td>\n",
       "      <td>80.64</td>\n",
       "      <td>7.30</td>\n",
       "      <td>7.32</td>\n",
       "      <td>0</td>\n",
       "      <td>0</td>\n",
       "      <td>paid</td>\n",
       "      <td>6</td>\n",
       "    </tr>\n",
       "  </tbody>\n",
       "</table>\n",
       "<p>800 rows × 12 columns</p>\n",
       "</div>"
      ],
      "text/plain": [
       "                                        branch  year  admission_year  age  \\\n",
       "0                       Information Technology     1            2025   18   \n",
       "1                       Information Technology     1            2021   22   \n",
       "2                       Electrical Engineering     2            2020   17   \n",
       "3        Production and Industrial Engineering     4            2021   21   \n",
       "4    Electronics and Communication Engineering     4            2020   18   \n",
       "..                                         ...   ...             ...  ...   \n",
       "795                     Mechanical Engineering     2            2021   23   \n",
       "796               Computer Science Engineering     3            2021   18   \n",
       "797                              Biotechnology     1            2022   17   \n",
       "798                     Electrical Engineering     4            2024   17   \n",
       "799                     Mechanical Engineering     1            2025   22   \n",
       "\n",
       "     avg_attendance_overall  last_4_week_attendance  current_sgpa  cgpa  \\\n",
       "0                     77.36                   74.99          6.86  6.90   \n",
       "1                     87.75                   87.24          7.37  7.33   \n",
       "2                     62.85                   55.98          6.08  6.68   \n",
       "3                     77.51                   80.25          8.20  8.01   \n",
       "4                     58.01                   43.38          6.09  6.97   \n",
       "..                      ...                     ...           ...   ...   \n",
       "795                   90.51                   87.85          7.81  7.71   \n",
       "796                   73.82                   79.74          6.32  6.81   \n",
       "797                   75.52                   81.37          7.62  7.54   \n",
       "798                   73.23                   65.29          6.90  6.91   \n",
       "799                   78.80                   80.64          7.30  7.32   \n",
       "\n",
       "     backlog_prev  backlog_curr fee_status  lms_logins_30d  \n",
       "0               0             0       paid               5  \n",
       "1               0             0       paid              11  \n",
       "2               0             0       paid               7  \n",
       "3               0             0       paid               6  \n",
       "4               0             0       paid              10  \n",
       "..            ...           ...        ...             ...  \n",
       "795             0             0       paid              10  \n",
       "796             0             0       paid               6  \n",
       "797             0             0       paid              12  \n",
       "798             0             0    overdue              11  \n",
       "799             0             0       paid               6  \n",
       "\n",
       "[800 rows x 12 columns]"
      ]
     },
     "execution_count": 29,
     "metadata": {},
     "output_type": "execute_result"
    }
   ],
   "source": [
    "import pandas as pd\n",
    "import numpy as np\n",
    "df = pd.read_csv('synthetic_students_final.csv')\n",
    "#df.head()\n",
    "features = df.drop([\"student_id\", \"name\",\"dropout_label\"], axis = 1)\n",
    "output = df[\"dropout_label\"]\n",
    "features\n"
   ]
  },
  {
   "cell_type": "code",
   "execution_count": 30,
   "metadata": {
    "id": "OYn3rITPVm9t"
   },
   "outputs": [],
   "source": [
    "\n",
    "import numpy as np\n",
    "from sklearn.preprocessing import LabelEncoder, OneHotEncoder\n",
    "\n",
    "le1 = LabelEncoder()\n",
    "ohe1 = OneHotEncoder(sparse_output=False)  #output is a 2D array, not sparse\n",
    "le_branch = le.fit_transform(features[\"branch\"])\n",
    "\n",
    "le_branch = le_branch.reshape(-1, 1)\n",
    "\n",
    "\n",
    "ohe_branch = ohe.fit_transform(le_branch)\n",
    "\n",
    "\n",
    "ohe_branch = ohe_branch[:,1:]\n",
    "\n"
   ]
  },
  {
   "cell_type": "code",
   "execution_count": 31,
   "metadata": {},
   "outputs": [],
   "source": [
    "le2 = LabelEncoder()\n",
    "ohe2 = OneHotEncoder(sparse_output=False)\n",
    "le_fee_status = le.fit_transform(features[\"fee_status\"])\n",
    "le_fee_status = le_fee_status.reshape(-1, 1)\n",
    "ohe_fee_status = ohe.fit_transform(le_fee_status)\n",
    "ohe_fee_status = ohe_fee_status[:,1:]"
   ]
  },
  {
   "cell_type": "code",
   "execution_count": null,
   "metadata": {
    "colab": {
     "base_uri": "https://localhost:8080/"
    },
    "executionInfo": {
     "elapsed": 46,
     "status": "ok",
     "timestamp": 1758006478234,
     "user": {
      "displayName": "RANE YEESHIKA SUDHIR",
      "userId": "04129580577590895548"
     },
     "user_tz": -330
    },
    "id": "zdEK2gvyV0he",
    "outputId": "21536546-01ce-4484-eaea-729fdba81300"
   },
   "outputs": [
    {
     "data": {
      "text/plain": [
       "array([[ 0.,  0.,  0., ...,  0.,  0.,  5.],\n",
       "       [ 0.,  0.,  0., ...,  0.,  0., 11.],\n",
       "       [ 0.,  0.,  0., ...,  0.,  0.,  7.],\n",
       "       ...,\n",
       "       [ 0.,  0.,  0., ...,  0.,  0., 12.],\n",
       "       [ 0.,  0.,  0., ...,  0.,  0., 11.],\n",
       "       [ 0.,  0.,  0., ...,  0.,  0.,  6.]], shape=(800, 20))"
      ]
     },
     "execution_count": 32,
     "metadata": {},
     "output_type": "execute_result"
    }
   ],
   "source": [
    "features = df.drop([\"branch\", \"fee_status\",\"student_id\", \"name\",\"dropout_label\"], axis = 1)\n",
    "features = np.array(features)\n",
    "features = np.hstack([ohe_branch,ohe_fee_status,features])\n",
    "features"
   ]
  },
  {
   "cell_type": "code",
   "execution_count": 33,
   "metadata": {
    "id": "8NalsoQqV3Zs"
   },
   "outputs": [],
   "source": [
    "from sklearn.model_selection import train_test_split\n",
    "\n",
    "x_train,x_test,y_train,y_test = train_test_split(features, output, test_size=0.2, random_state=42)"
   ]
  },
  {
   "cell_type": "code",
   "execution_count": 34,
   "metadata": {
    "colab": {
     "base_uri": "https://localhost:8080/"
    },
    "executionInfo": {
     "elapsed": 34,
     "status": "ok",
     "timestamp": 1758006478278,
     "user": {
      "displayName": "RANE YEESHIKA SUDHIR",
      "userId": "04129580577590895548"
     },
     "user_tz": -330
    },
    "id": "NNj23URLV7lK",
    "outputId": "13eb3846-44f5-42f7-9647-1b4548298f95"
   },
   "outputs": [
    {
     "data": {
      "text/plain": [
       "0.99375"
      ]
     },
     "execution_count": 34,
     "metadata": {},
     "output_type": "execute_result"
    }
   ],
   "source": [
    "from sklearn.ensemble import RandomForestClassifier\n",
    "\n",
    "model = RandomForestClassifier(n_estimators=10, random_state=42)\n",
    "model.fit(x_train, y_train)\n",
    "predict = model.predict(x_test)\n",
    "model.score(x_test,y_test)\n",
    "\n"
   ]
  },
  {
   "cell_type": "code",
   "execution_count": 35,
   "metadata": {
    "colab": {
     "base_uri": "https://localhost:8080/"
    },
    "executionInfo": {
     "elapsed": 29,
     "status": "ok",
     "timestamp": 1758009506787,
     "user": {
      "displayName": "RANE YEESHIKA SUDHIR",
      "userId": "04129580577590895548"
     },
     "user_tz": -330
    },
    "id": "gCGQUTBwhw2U",
    "outputId": "a43ea686-decf-4ba4-c6e1-469275cca667"
   },
   "outputs": [
    {
     "data": {
      "text/plain": [
       "['model']"
      ]
     },
     "execution_count": 35,
     "metadata": {},
     "output_type": "execute_result"
    }
   ],
   "source": [
    "import joblib\n",
    "joblib.dump(model,\"model\")"
   ]
  },
  {
   "cell_type": "code",
   "execution_count": 36,
   "metadata": {
    "colab": {
     "base_uri": "https://localhost:8080/"
    },
    "executionInfo": {
     "elapsed": 7,
     "status": "ok",
     "timestamp": 1758006478286,
     "user": {
      "displayName": "RANE YEESHIKA SUDHIR",
      "userId": "04129580577590895548"
     },
     "user_tz": -330
    },
    "id": "Gbuk8U4IaAxO",
    "outputId": "4e7ccf84-abd5-4893-a191-d6b9fc1c896c"
   },
   "outputs": [
    {
     "name": "stdout",
     "output_type": "stream",
     "text": [
      "2.2.6\n"
     ]
    }
   ],
   "source": [
    "import numpy\n",
    "print(numpy.__version__)"
   ]
  }
 ],
 "metadata": {
  "colab": {
   "authorship_tag": "ABX9TyNcEI5OsORFhQPG/CxY5FCW",
   "provenance": []
  },
  "kernelspec": {
   "display_name": "venv",
   "language": "python",
   "name": "python3"
  },
  "language_info": {
   "codemirror_mode": {
    "name": "ipython",
    "version": 3
   },
   "file_extension": ".py",
   "mimetype": "text/x-python",
   "name": "python",
   "nbconvert_exporter": "python",
   "pygments_lexer": "ipython3",
   "version": "3.12.6"
  }
 },
 "nbformat": 4,
 "nbformat_minor": 0
}
